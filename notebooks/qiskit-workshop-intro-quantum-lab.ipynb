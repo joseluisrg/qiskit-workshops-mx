{
 "cells": [
  {
   "cell_type": "markdown",
   "metadata": {},
   "source": [
    "# Quantum Computing Workshop: Introduction to Qiskit\n",
    "\n",
    "##### Basado en Notebook de Sean Wagner"
   ]
  },
  {
   "cell_type": "code",
   "execution_count": null,
   "metadata": {
    "tags": []
   },
   "outputs": [],
   "source": [
    "# Importing standard Qiskit libraries\n",
    "from qiskit import QuantumCircuit, transpile\n",
    "from qiskit.tools.jupyter import *\n",
    "from qiskit.visualization import *\n",
    "from qiskit_aer import AerSimulator\n",
    "import warnings\n",
    "warnings.filterwarnings('ignore')\n",
    "\n",
    "# qiskit-ibmq-provider has been deprecated.\n",
    "# Please see the Migration Guides in https://ibm.biz/provider_migration_guide for more detail.\n",
    "from qiskit_ibm_runtime import QiskitRuntimeService, Sampler, Estimator, Session, Options\n",
    "\n",
    "# Loading your IBM Quantum account(s)\n",
    "service = QiskitRuntimeService(channel=\"ibm_quantum\")\n",
    "\n",
    "# Invoke a primitive inside a session. For more details see https://qiskit.org/documentation/partners/qiskit_ibm_runtime/tutorials.html\n",
    "# with Session(backend=service.backend(\"ibmq_qasm_simulator\")):\n",
    "#     result = Sampler().run(circuits).result()"
   ]
  },
  {
   "cell_type": "code",
   "execution_count": null,
   "metadata": {
    "tags": []
   },
   "outputs": [],
   "source": [
    "# Other useful imports\n",
    "\n",
    "import numpy as np"
   ]
  },
  {
   "cell_type": "markdown",
   "metadata": {
    "tags": []
   },
   "source": [
    "# Basic NOT circuit"
   ]
  },
  {
   "cell_type": "markdown",
   "metadata": {},
   "source": [
    "Goal: flip a qubit from the initial $|0\\rangle$ state to the $|1\\rangle$ state\n",
    "\n",
    "Note that qubits on IBM systems are always reset to the $|0\\rangle$ state at the start of the circuit."
   ]
  },
  {
   "cell_type": "code",
   "execution_count": null,
   "metadata": {
    "tags": []
   },
   "outputs": [],
   "source": [
    "# Basic quantum circuit\n",
    "circ = QuantumCircuit(1,1)\n",
    "circ.x(0)\n",
    "circ.measure(0,0)\n",
    "circ.draw(output='mpl')"
   ]
  },
  {
   "cell_type": "code",
   "execution_count": null,
   "metadata": {
    "tags": []
   },
   "outputs": [],
   "source": [
    "# Create a backend for local execution in a simulator\n",
    "sim_backend = AerSimulator()"
   ]
  },
  {
   "cell_type": "code",
   "execution_count": null,
   "metadata": {
    "tags": []
   },
   "outputs": [],
   "source": [
    "# Run basic circuit and measure\n",
    "job = sim_backend.run(circ, shots=2048)\n",
    "result = job.result()\n",
    "counts = result.get_counts()\n",
    "\n",
    "counts"
   ]
  },
  {
   "cell_type": "code",
   "execution_count": null,
   "metadata": {
    "tags": []
   },
   "outputs": [],
   "source": [
    "# Plot histogram of results\n",
    "plot_histogram(counts)"
   ]
  },
  {
   "cell_type": "markdown",
   "metadata": {},
   "source": [
    "# CNOT circuit"
   ]
  },
  {
   "cell_type": "markdown",
   "metadata": {},
   "source": [
    "Goal: flip the state of a target qubit based on the state of another control qubit"
   ]
  },
  {
   "cell_type": "markdown",
   "metadata": {
    "tags": []
   },
   "source": [
    "Nota: Recuerda que el qubit de control, es aquel donde ubicamos el circulo de menor tamaño."
   ]
  },
  {
   "cell_type": "code",
   "execution_count": null,
   "metadata": {
    "tags": []
   },
   "outputs": [],
   "source": [
    "# Create CNOT circuit\n",
    "cnot_circ = QuantumCircuit(2,2)\n",
    "\n",
    "# Comment out the next line to see what happens when the input is left as |0>\n",
    "cnot_circ.x(0)\n",
    "\n",
    "# Comment out the next line to see what happens when the target is left as |0>\n",
    "#cnot_circ.x(1)\n",
    "\n",
    "# Apply CNOT, then measure\n",
    "cnot_circ.cx(0,1)\n",
    "cnot_circ.measure([0,1],[0,1])\n",
    "\n",
    "cnot_circ.draw()"
   ]
  },
  {
   "cell_type": "code",
   "execution_count": null,
   "metadata": {
    "tags": []
   },
   "outputs": [],
   "source": [
    "# Run CNOT circuit\n",
    "job = sim_backend.run(cnot_circ)\n",
    "counts = job.result().get_counts()\n",
    "counts"
   ]
  },
  {
   "cell_type": "markdown",
   "metadata": {},
   "source": [
    "### Nota: Recuerda que el qubit menos significativo se encuentra del lado izquierdo de la lectura en llaves {qn .. q2 q1 q0}"
   ]
  },
  {
   "cell_type": "code",
   "execution_count": null,
   "metadata": {
    "tags": []
   },
   "outputs": [],
   "source": [
    "# Plot histogram of results\n",
    "plot_histogram(counts)"
   ]
  },
  {
   "cell_type": "markdown",
   "metadata": {},
   "source": [
    "# Superposition"
   ]
  },
  {
   "cell_type": "markdown",
   "metadata": {},
   "source": [
    "Goal: place a qubit into an even superposition of $|0\\rangle$ and $|1\\rangle$"
   ]
  },
  {
   "cell_type": "markdown",
   "metadata": {},
   "source": [
    "_Refresh_: Superposición es una característica cuántica que permite que dos estados (ej. |1> o |0>) puedan ser obtenidos al mismo tiempo. La Compuerta Hadamard (H) nos permite super poner los dos estados posibles de un qubit."
   ]
  },
  {
   "cell_type": "code",
   "execution_count": null,
   "metadata": {
    "tags": []
   },
   "outputs": [],
   "source": [
    "# Create superposition circuit by using the Hadamard gate\n",
    "sp_circ = QuantumCircuit(1,1)\n",
    "sp_circ.h(0)\n",
    "sp_circ.measure(0,0)\n",
    "sp_circ.draw()"
   ]
  },
  {
   "cell_type": "code",
   "execution_count": null,
   "metadata": {
    "tags": []
   },
   "outputs": [],
   "source": [
    "# Run simulation and plot results\n",
    "job = sim_backend.run(sp_circ)\n",
    "sp_counts = job.result().get_counts()\n",
    "sp_counts"
   ]
  },
  {
   "cell_type": "markdown",
   "metadata": {},
   "source": [
    "### Visualización del enfoque estadístico de los experimentos \n",
    "\n",
    "Ejecuta el mismo experimento pero con un shot. Ejecuta el circuito varias veces manualmente. Observa el resultado."
   ]
  },
  {
   "cell_type": "code",
   "execution_count": null,
   "metadata": {
    "tags": []
   },
   "outputs": [],
   "source": [
    "# (Ejecuta este \n",
    "job = sim_backend.run(sp_circ, shots=1)\n",
    "sp_counts = job.result().get_counts()\n",
    "sp_counts"
   ]
  },
  {
   "cell_type": "code",
   "execution_count": null,
   "metadata": {
    "tags": []
   },
   "outputs": [],
   "source": [
    "# Plot\n",
    "plot_histogram(sp_counts)"
   ]
  },
  {
   "cell_type": "markdown",
   "metadata": {},
   "source": [
    "### Multiple qubits in superposition\n",
    "\n",
    "En este ejercicio mediremos varios qubits en un estado superpuesto usando compuertas Hadamard."
   ]
  },
  {
   "cell_type": "code",
   "execution_count": null,
   "metadata": {
    "tags": []
   },
   "outputs": [],
   "source": [
    "# Create superposition circuit\n",
    "sp_circ2 = QuantumCircuit(3,3)\n",
    "sp_circ2.h([0,1,2])\n",
    "sp_circ2.measure([0,1,2],[0,1,2])\n",
    "sp_circ2.draw()"
   ]
  },
  {
   "cell_type": "code",
   "execution_count": null,
   "metadata": {
    "tags": []
   },
   "outputs": [],
   "source": [
    "# Run simulation and plot results\n",
    "# Try increasing the number of shots to see how that affects the result\n",
    "job = sim_backend.run(sp_circ2, shots=10*100)\n",
    "sp_counts = job.result().get_counts()\n",
    "sp_counts"
   ]
  },
  {
   "cell_type": "code",
   "execution_count": null,
   "metadata": {
    "tags": []
   },
   "outputs": [],
   "source": [
    "# Run simulation and plot results\n",
    "# Try increasing the number of shots to see how that affects the result\n",
    "job = sim_backend.run(sp_circ2, shots=10*1)\n",
    "sp_counts = job.result().get_counts()\n",
    "plot_histogram(sp_counts)"
   ]
  },
  {
   "cell_type": "markdown",
   "metadata": {
    "tags": []
   },
   "source": [
    "# Bell state (entrelazamiento)\n",
    "- Bell state para el caso de dos qubits (entrelazados), cuando medimos uno de ellos y conocemos su estado, podemos inferir el estado del otro qubit.\n",
    "- En otras palabras, es un estado donde no importa dónde se ubique un qubit, el otro \"lo seguirá\" con un estado predecible.\n",
    "- Este tipo de estados ayuda a describir otros estados de un sistema cuántico más complejo.\n",
    "- Hay cuatro tipo de Bell states."
   ]
  },
  {
   "cell_type": "markdown",
   "metadata": {},
   "source": [
    "Goal: Create the $\\frac{1}{\\sqrt{2}} (|00\\rangle + |11\\rangle)$ entangled state"
   ]
  },
  {
   "cell_type": "markdown",
   "metadata": {},
   "source": [
    "Nota, recuerda de para la notación de dirac |00>, el bit menos significativo es el de la derecha."
   ]
  },
  {
   "cell_type": "code",
   "execution_count": null,
   "metadata": {
    "tags": []
   },
   "outputs": [],
   "source": [
    "# Create Bell state circuit\n",
    "bell_circ = QuantumCircuit(2,2)\n",
    "bell_circ.h(0)\n",
    "bell_circ.cx(0, 1)\n",
    "bell_circ.measure([0,1], [0,1])\n",
    "bell_circ.draw()"
   ]
  },
  {
   "cell_type": "code",
   "execution_count": null,
   "metadata": {
    "tags": []
   },
   "outputs": [],
   "source": [
    "job = sim_backend.run(bell_circ)\n",
    "bell_counts = job.result().get_counts()\n",
    "bell_counts"
   ]
  },
  {
   "cell_type": "code",
   "execution_count": null,
   "metadata": {
    "tags": []
   },
   "outputs": [],
   "source": [
    "plot_histogram(bell_counts)"
   ]
  },
  {
   "cell_type": "markdown",
   "metadata": {
    "tags": []
   },
   "source": [
    "# Running on a real quantum computer"
   ]
  },
  {
   "cell_type": "code",
   "execution_count": null,
   "metadata": {
    "tags": []
   },
   "outputs": [],
   "source": [
    "# Import the IBMProvider to run directly on the IBM quantum processors and cloud simulators\n",
    "\n",
    "from qiskit_ibm_provider import IBMProvider\n",
    "\n",
    "provider = IBMProvider(instance='ibm-q/open/main')"
   ]
  },
  {
   "cell_type": "code",
   "execution_count": null,
   "metadata": {
    "tags": []
   },
   "outputs": [],
   "source": [
    "# Get backend\n",
    "provider.backends()"
   ]
  },
  {
   "cell_type": "code",
   "execution_count": null,
   "metadata": {
    "tags": []
   },
   "outputs": [],
   "source": [
    "# Find the least busy system that has at least 2 qubits...\n",
    "from qiskit_ibm_provider import least_busy\n",
    "\n",
    "ibmq_backend = least_busy(provider.backends(filters=lambda x: x.configuration().n_qubits >= 2 and \n",
    "                                   not x.configuration().simulator and x.status().operational==True))\n",
    "\n",
    "print(ibmq_backend)"
   ]
  },
  {
   "cell_type": "code",
   "execution_count": null,
   "metadata": {
    "tags": []
   },
   "outputs": [],
   "source": [
    "# ...Or simply select a specific backend\n",
    "#ibmq_backend = provider.get_backend('ibm_nairobi')\n",
    "ibmq_backend"
   ]
  },
  {
   "cell_type": "code",
   "execution_count": null,
   "metadata": {
    "tags": []
   },
   "outputs": [],
   "source": [
    "# Pregunta al instructor\n",
    "\n",
    "# Run the circuit or DONT !!!! considera que la ejecucion de un circuito in el tier gratuito pueda tomar mucho tiempo\n",
    "\n",
    "#job_ibmq = ibmq_backend.run(bell_circ, shots=1024)"
   ]
  },
  {
   "cell_type": "code",
   "execution_count": null,
   "metadata": {
    "tags": []
   },
   "outputs": [],
   "source": [
    "# Pregunta al instructor\n",
    "\n",
    "# Consulta el estado del Job or DONT !!!!\n",
    "#job_ibmq.status()"
   ]
  },
  {
   "cell_type": "code",
   "execution_count": null,
   "metadata": {
    "tags": []
   },
   "outputs": [],
   "source": [
    "# Pregunta al instructor\n",
    "\n",
    "# Consulta más detalles del Job\n",
    "job_ibmq.queue_info()"
   ]
  },
  {
   "cell_type": "code",
   "execution_count": null,
   "metadata": {
    "tags": []
   },
   "outputs": [],
   "source": [
    "# Pregunta al instructor\n",
    "\n",
    "# Get the results (NOTE: this will error out since we did not transpile first!)\n",
    "\n",
    "result = job_ibmq.result()"
   ]
  },
  {
   "cell_type": "markdown",
   "metadata": {
    "tags": []
   },
   "source": [
    "#### El error generado significa que la compuerta utilizada en el circuito no está soportada en el sistema. Para alcanzarlo necesito hacer una transpilación."
   ]
  },
  {
   "cell_type": "markdown",
   "metadata": {
    "tags": []
   },
   "source": [
    "### Qué es Transpilado? (Transpiling):\n",
    "    - Es una representación de un circuito equivalente (trasformado) al que quieres correr para usarlo de acuerdo al sistema objetivo.\n",
    "    - Ej, en Eagle tenemos 4 circuitos + 1 de medición."
   ]
  },
  {
   "cell_type": "code",
   "execution_count": null,
   "metadata": {
    "tags": []
   },
   "outputs": [],
   "source": [
    "# Transpile the circuit first, the attempt to run again!\n",
    "from qiskit import transpile\n",
    "\n",
    "bell_circ_tp = transpile(bell_circ, ibmq_backend)\n",
    "bell_circ_tp.draw()"
   ]
  },
  {
   "cell_type": "code",
   "execution_count": null,
   "metadata": {
    "tags": []
   },
   "outputs": [],
   "source": [
    "# Run the circuit again\n",
    "job_ibmq = ibmq_backend.run(bell_circ_tp, shots=1024)\n",
    "\n",
    "# OR..."
   ]
  },
  {
   "cell_type": "code",
   "execution_count": null,
   "metadata": {
    "tags": []
   },
   "outputs": [],
   "source": [
    "# Consulta más detalles del Job\n",
    "job_ibmq.queue_info()"
   ]
  },
  {
   "cell_type": "code",
   "execution_count": null,
   "metadata": {
    "tags": []
   },
   "outputs": [],
   "source": [
    "# ... Just use the execute() method instead!\n",
    "# The execute() method will transpile the circuit for you\n",
    "from qiskit import execute\n",
    "\n",
    "job_ibmq = execute(bell_circ, ibmq_backend, shots=1024)"
   ]
  },
  {
   "cell_type": "code",
   "execution_count": null,
   "metadata": {
    "tags": []
   },
   "outputs": [],
   "source": [
    "# Consulta más detalles del Job\n",
    "job_ibmq.queue_info()"
   ]
  },
  {
   "cell_type": "code",
   "execution_count": null,
   "metadata": {
    "tags": []
   },
   "outputs": [],
   "source": [
    "# Plot histogram of results. Note the noise in the system\n",
    "# results in states that should not appear in the measurements.\n",
    "result = job_ibmq.result()\n",
    "counts = result.get_counts()\n",
    "plot_histogram(counts)"
   ]
  },
  {
   "cell_type": "markdown",
   "metadata": {},
   "source": [
    "## Reto: Create other Bell states\n",
    "Create the following state\n",
    "\n",
    "### $\\frac{1}{\\sqrt{2}}(|01\\rangle + |10\\rangle)$"
   ]
  },
  {
   "cell_type": "code",
   "execution_count": null,
   "metadata": {},
   "outputs": [],
   "source": [
    "# FILL IN ANSWER HERE\n"
   ]
  },
  {
   "cell_type": "markdown",
   "metadata": {
    "tags": []
   },
   "source": [
    "# Statevector simulator"
   ]
  },
  {
   "cell_type": "markdown",
   "metadata": {
    "tags": []
   },
   "source": [
    "- Representación del estado del sistema cuántico en general. \n",
    "- 2^n elementos donde n es un qubit\n",
    "- se describe en términos complejos."
   ]
  },
  {
   "cell_type": "markdown",
   "metadata": {},
   "source": [
    "It is possible to get information on the full state of the system of qubits using the statevector simulator. With this, we can see the action of gates such as the Z and phase gates directly, and view plots of the statevector (e.g. Bloch sphere). However, this is only possible in simulation.\n",
    "\n",
    "The first example is the uniform superposition state of a single qubit that can be created using a Hadamard gate."
   ]
  },
  {
   "cell_type": "code",
   "execution_count": null,
   "metadata": {
    "tags": []
   },
   "outputs": [],
   "source": [
    "# Create superposition circuit again\n",
    "sp_circ3 = QuantumCircuit(1)\n",
    "sp_circ3.h(0)\n",
    "sp_circ3.save_statevector()\n",
    "sp_circ3.draw()"
   ]
  },
  {
   "cell_type": "code",
   "execution_count": null,
   "metadata": {
    "tags": []
   },
   "outputs": [],
   "source": [
    "# Get the statevector simulator backend\n",
    "svsim_backend = AerSimulator(method=\"statevector\")"
   ]
  },
  {
   "cell_type": "code",
   "execution_count": null,
   "metadata": {
    "tags": []
   },
   "outputs": [],
   "source": [
    "# Run in statevector simulator and get the state vector\n",
    "job = svsim_backend.run(sp_circ3)\n",
    "result = job.result()\n",
    "state = result.get_statevector(sp_circ3)\n",
    "state"
   ]
  },
  {
   "cell_type": "code",
   "execution_count": null,
   "metadata": {
    "tags": []
   },
   "outputs": [],
   "source": [
    "# Plot Bloch Sphere\n",
    "plot_bloch_multivector(state)"
   ]
  },
  {
   "cell_type": "markdown",
   "metadata": {},
   "source": [
    "### Z gate"
   ]
  },
  {
   "cell_type": "markdown",
   "metadata": {},
   "source": [
    "The Z gate performs phase flip of a qubit that is in the $|1\\rangle$ state. In the circuit below, a single qubit is placed in the uniform superposition state, and the phase of the $|1\\rangle$ component of the superposition is changed from positive to negative."
   ]
  },
  {
   "cell_type": "code",
   "execution_count": null,
   "metadata": {
    "tags": []
   },
   "outputs": [],
   "source": [
    "# Place a qubit into a superposition state\n",
    "# then apply the Z gate\n",
    "z_circ = QuantumCircuit(1)\n",
    "z_circ.h(0)\n",
    "z_circ.z(0)\n",
    "z_circ.save_statevector()\n",
    "z_circ.draw()"
   ]
  },
  {
   "cell_type": "code",
   "execution_count": null,
   "metadata": {
    "tags": []
   },
   "outputs": [],
   "source": [
    "# Run in the statevector simulator and plot out the Bloch sphere\n",
    "# representation of the state. \n",
    "job = svsim_backend.run(z_circ)\n",
    "result = job.result()\n",
    "state = result.get_statevector(z_circ)\n",
    "plot_bloch_multivector(state)"
   ]
  },
  {
   "cell_type": "markdown",
   "metadata": {},
   "source": [
    "The state has been changed to be $\\frac{1}{\\sqrt{2}} (|0\\rangle - |1\\rangle)$"
   ]
  },
  {
   "cell_type": "markdown",
   "metadata": {
    "tags": []
   },
   "source": [
    "### Rz gate"
   ]
  },
  {
   "cell_type": "markdown",
   "metadata": {},
   "source": [
    "The Rz gate rotates the state of the qubit around the Z-axis of the Bloch sphere by a given angle."
   ]
  },
  {
   "cell_type": "code",
   "execution_count": null,
   "metadata": {
    "tags": []
   },
   "outputs": [],
   "source": [
    "rz_circ = QuantumCircuit(1)\n",
    "rz_circ.h(0)\n",
    "rz_circ.rz(np.pi/2, 0)\n",
    "rz_circ.save_statevector()\n",
    "rz_circ.draw()"
   ]
  },
  {
   "cell_type": "code",
   "execution_count": null,
   "metadata": {
    "tags": []
   },
   "outputs": [],
   "source": [
    "# Run the Rz circuit in the simulator.\n",
    "job = svsim_backend.run(rz_circ)\n",
    "result = job.result()\n",
    "state = result.get_statevector(rz_circ)\n",
    "plot_bloch_multivector(state)"
   ]
  },
  {
   "cell_type": "markdown",
   "metadata": {},
   "source": [
    "### Visualizing multi-qubit states (Optional)"
   ]
  },
  {
   "cell_type": "code",
   "execution_count": null,
   "metadata": {
    "tags": []
   },
   "outputs": [],
   "source": [
    "# Create Bell state circuit\n",
    "bell_circ2 = QuantumCircuit(2)\n",
    "bell_circ2.h(0)\n",
    "bell_circ2.cx(0, 1)\n",
    "bell_circ2.save_statevector()\n",
    "bell_circ2.draw()"
   ]
  },
  {
   "cell_type": "code",
   "execution_count": null,
   "metadata": {
    "tags": []
   },
   "outputs": [],
   "source": [
    "# Run in statevector simulator and get the state\n",
    "job = svsim_backend.run(bell_circ2)\n",
    "result = job.result()\n",
    "state = result.get_statevector(bell_circ2)\n",
    "state"
   ]
  },
  {
   "cell_type": "code",
   "execution_count": null,
   "metadata": {
    "tags": []
   },
   "outputs": [],
   "source": [
    "# Plot the statevector \"city\" plot\n",
    "plot_state_city(state)"
   ]
  },
  {
   "cell_type": "code",
   "execution_count": null,
   "metadata": {
    "tags": []
   },
   "outputs": [],
   "source": [
    "# Plot the state on the Qsphere\n",
    "plot_state_qsphere(state)"
   ]
  },
  {
   "cell_type": "markdown",
   "metadata": {},
   "source": [
    "## GHZ Circuit"
   ]
  },
  {
   "cell_type": "markdown",
   "metadata": {},
   "source": [
    "- A GHZ state is a maximal entangled state of multiple qubits (i.e. an extension of the Bell states to more than 2 qubits).\n",
    "- This can be used in more complex systems"
   ]
  },
  {
   "cell_type": "code",
   "execution_count": null,
   "metadata": {
    "tags": []
   },
   "outputs": [],
   "source": [
    "# Create 3-qubit GHZ state circuit\n",
    "ghz_circ = QuantumCircuit(3, 3)\n",
    "ghz_circ.h(0)\n",
    "ghz_circ.cx(0, 1)\n",
    "ghz_circ.cx(1, 2)\n",
    "ghz_circ.save_statevector()\n",
    "ghz_circ.measure([0,1,2], [0,1,2])\n",
    "ghz_circ.draw()"
   ]
  },
  {
   "cell_type": "code",
   "execution_count": null,
   "metadata": {
    "tags": []
   },
   "outputs": [],
   "source": [
    "# Run in simulator and plot out the measured result\n",
    "job = sim_backend.run(ghz_circ)\n",
    "result = job.result()\n",
    "counts = result.get_counts()\n",
    "plot_histogram(counts)"
   ]
  },
  {
   "cell_type": "code",
   "execution_count": null,
   "metadata": {
    "tags": []
   },
   "outputs": [],
   "source": [
    "# Plot the QSphere\n",
    "state = result.get_statevector(ghz_circ)\n",
    "plot_state_qsphere(state)"
   ]
  },
  {
   "cell_type": "markdown",
   "metadata": {},
   "source": [
    "### Larger GHZ circuit"
   ]
  },
  {
   "cell_type": "code",
   "execution_count": null,
   "metadata": {
    "tags": []
   },
   "outputs": [],
   "source": [
    "n_qubits = 8\n",
    "\n",
    "big_ghz = QuantumCircuit(n_qubits, n_qubits)\n",
    "big_ghz.h(0)\n",
    "for i in range(n_qubits-1):\n",
    "    big_ghz.cx(i, i+1)\n",
    "big_ghz.measure(range(n_qubits), range(n_qubits))\n",
    "big_ghz.draw()"
   ]
  },
  {
   "cell_type": "markdown",
   "metadata": {
    "tags": []
   },
   "source": [
    "### Depth (Profundidad de un circuito)\n",
    "- Es la profundidad o las capas por las que suceden en paralelo al mismo tiempo.\n",
    "- Mientras más capas toma más tiempo en correr\n",
    "- Es importante cuando tenemos decoherencia... tienes que correr tu circuito dentro del tiempo de decoherencia\n",
    "- Falcon por ejemplo tiene ~250 us\n",
    "- 100-500~ ns para un CNOT gate, después de eso puedes tener lecturas ruidosas."
   ]
  },
  {
   "cell_type": "code",
   "execution_count": null,
   "metadata": {
    "tags": []
   },
   "outputs": [],
   "source": [
    "# Circuit depth\n",
    "big_ghz.depth()"
   ]
  },
  {
   "cell_type": "code",
   "execution_count": null,
   "metadata": {
    "tags": []
   },
   "outputs": [],
   "source": [
    "# Run in simulator and plot out the measured result\n",
    "job = sim_backend.run(big_ghz)\n",
    "result = job.result()\n",
    "counts = result.get_counts()\n",
    "plot_histogram(counts)"
   ]
  },
  {
   "cell_type": "markdown",
   "metadata": {},
   "source": [
    "### Challenge: make a shorter depth GHZ circuit"
   ]
  },
  {
   "cell_type": "markdown",
   "metadata": {},
   "source": [
    "The circuit above is simple, but the overall depth of the circuit is long. This happened because the sequence of CNOT gates is serialized. The system can only execute CNOT gates on a particular qubit one at a time. Long circuit depth can be problematic as a longer circuit is more susceptible to noise and decoherence in current hardware. It would be beneficial to create the same state, but with less overall depth.\n",
    "\n",
    "Can you find a way to reduce the depth of the GHZ circuit?\n",
    "\n",
    "Hint: find ways to overlap the execution of gates on different pairs of qubits."
   ]
  },
  {
   "cell_type": "code",
   "execution_count": null,
   "metadata": {},
   "outputs": [],
   "source": [
    "### INSERT ANSWER HERE ###\n",
    "\n",
    "\n"
   ]
  },
  {
   "cell_type": "code",
   "execution_count": null,
   "metadata": {
    "tags": []
   },
   "outputs": [],
   "source": [
    "import qiskit.tools.jupyter\n",
    "%qiskit_version_table"
   ]
  }
 ],
 "metadata": {
  "kernelspec": {
   "display_name": "Qiskit v0.45.3 (ipykernel)",
   "language": "python",
   "name": "python3"
  },
  "language_info": {
   "codemirror_mode": {
    "name": "ipython",
    "version": 3
   },
   "file_extension": ".py",
   "mimetype": "text/x-python",
   "name": "python",
   "nbconvert_exporter": "python",
   "pygments_lexer": "ipython3",
   "version": "3.10.8"
  },
  "widgets": {
   "application/vnd.jupyter.widget-state+json": {
    "state": {},
    "version_major": 2,
    "version_minor": 0
   }
  }
 },
 "nbformat": 4,
 "nbformat_minor": 4
}
